{
 "cells": [
  {
   "cell_type": "markdown",
   "metadata": {},
   "source": [
    "# Proof of concept\n",
    "\n",
    "- using [PRAW](https://praw.readthedocs.io/en/latest/)\n",
    "- grabs top 100 of 'memes' sub\n",
    "- grabs some metadata associated with submissions\n",
    "- dumps into csv file\n"
   ]
  },
  {
   "cell_type": "markdown",
   "metadata": {},
   "source": [
    "## Initial Setup\n",
    "\n",
    "`cp settings.yaml.orig settings.yaml`\n",
    "\n",
    "add API credentials to `settings.yaml`\n",
    "\n",
    "generate these with [instructions](https://github.com/reddit-archive/reddit/wiki/OAuth2-Quick-Start-Example#first-steps)"
   ]
  },
  {
   "cell_type": "code",
   "execution_count": 160,
   "metadata": {},
   "outputs": [
    {
     "name": "stdout",
     "output_type": "stream",
     "text": [
      "Requirement already satisfied: praw in /Users/tim/opt/anaconda3/lib/python3.7/site-packages (7.2.0)\n",
      "Requirement already satisfied: websocket-client>=0.54.0 in /Users/tim/opt/anaconda3/lib/python3.7/site-packages (from praw) (1.0.1)\n",
      "Requirement already satisfied: prawcore<3,>=2 in /Users/tim/opt/anaconda3/lib/python3.7/site-packages (from praw) (2.0.0)\n",
      "Requirement already satisfied: update-checker>=0.18 in /Users/tim/opt/anaconda3/lib/python3.7/site-packages (from praw) (0.18.0)\n",
      "Requirement already satisfied: requests<3.0,>=2.6.0 in /Users/tim/opt/anaconda3/lib/python3.7/site-packages (from prawcore<3,>=2->praw) (2.22.0)\n",
      "Requirement already satisfied: idna<2.9,>=2.5 in /Users/tim/opt/anaconda3/lib/python3.7/site-packages (from requests<3.0,>=2.6.0->prawcore<3,>=2->praw) (2.8)\n",
      "Requirement already satisfied: urllib3!=1.25.0,!=1.25.1,<1.26,>=1.21.1 in /Users/tim/opt/anaconda3/lib/python3.7/site-packages (from requests<3.0,>=2.6.0->prawcore<3,>=2->praw) (1.24.2)\n",
      "Requirement already satisfied: chardet<3.1.0,>=3.0.2 in /Users/tim/opt/anaconda3/lib/python3.7/site-packages (from requests<3.0,>=2.6.0->prawcore<3,>=2->praw) (3.0.4)\n",
      "Requirement already satisfied: certifi>=2017.4.17 in /Users/tim/opt/anaconda3/lib/python3.7/site-packages (from requests<3.0,>=2.6.0->prawcore<3,>=2->praw) (2019.9.11)\n",
      "Note: you may need to restart the kernel to use updated packages.\n"
     ]
    }
   ],
   "source": [
    "#Needs specific install\n",
    "#Only need to run once\n",
    "%pip install praw "
   ]
  },
  {
   "cell_type": "code",
   "execution_count": 161,
   "metadata": {},
   "outputs": [],
   "source": [
    "import praw\n",
    "import yaml\n",
    "import pprint\n",
    "import csv\n",
    "from datetime import datetime"
   ]
  },
  {
   "cell_type": "markdown",
   "metadata": {},
   "source": [
    "https://api.reddit.com/\n"
   ]
  },
  {
   "cell_type": "code",
   "execution_count": 162,
   "metadata": {},
   "outputs": [],
   "source": [
    "configs = yaml.load(open(\"settings.yaml\").read(), yaml.SafeLoader)"
   ]
  },
  {
   "cell_type": "code",
   "execution_count": 163,
   "metadata": {},
   "outputs": [
    {
     "name": "stdout",
     "output_type": "stream",
     "text": [
      "elibtronic\n"
     ]
    }
   ],
   "source": [
    "#AUTH\n",
    "\n",
    "reddit = praw.Reddit(\n",
    "    client_id = configs['CLIENT_ID'],\n",
    "    client_secret = configs['CLIENT_SECRET'],\n",
    "    user_agent = \"MemBot by u/elibtronic\",\n",
    "    username = configs['USERNAME'],\n",
    "    password = configs['PASSWORD'],\n",
    ")\n",
    "\n",
    "print(reddit.user.me())\n",
    "sr = reddit.subreddit(\"memes\")"
   ]
  },
  {
   "cell_type": "code",
   "execution_count": 164,
   "metadata": {},
   "outputs": [],
   "source": [
    "#GRAB something\n",
    "#'top 100 of sub'\n",
    "post_ids = []\n",
    "for sub in sr.hot(limit=100):\n",
    "    post_ids.append(sub)\n"
   ]
  },
  {
   "cell_type": "code",
   "execution_count": 165,
   "metadata": {},
   "outputs": [],
   "source": [
    "#What fields does a PRAW submission object have?\n",
    "# https://praw.readthedocs.io/en/latest/code_overview/models/submission.html\n",
    "#sub = reddit.submission(id=post_ids[1])\n",
    "#print(sub.title)\n",
    "#pprint.pprint(vars(sub))"
   ]
  },
  {
   "cell_type": "code",
   "execution_count": 166,
   "metadata": {},
   "outputs": [],
   "source": [
    "#Write out entries to CSV logfiel\n",
    "lf = datetime.now().strftime(\"%Y_%M_%d_%H_%M\") + \"_memlog.csv\"\n",
    "with open(lf,'w',newline='') as logfile:\n",
    "    writer = csv.writer(logfile)\n",
    "    writer.writerow([\"post id\",\"permalink\",\"title\",\"media\"])\n",
    "    \n",
    "    for post in post_ids:\n",
    "        writer.writerow([post,post.permalink,post.title,post.url])"
   ]
  },
  {
   "cell_type": "code",
   "execution_count": null,
   "metadata": {},
   "outputs": [],
   "source": []
  }
 ],
 "metadata": {
  "kernelspec": {
   "display_name": "Python 3",
   "language": "python",
   "name": "python3"
  },
  "language_info": {
   "codemirror_mode": {
    "name": "ipython",
    "version": 3
   },
   "file_extension": ".py",
   "mimetype": "text/x-python",
   "name": "python",
   "nbconvert_exporter": "python",
   "pygments_lexer": "ipython3",
   "version": "3.7.4"
  }
 },
 "nbformat": 4,
 "nbformat_minor": 2
}
